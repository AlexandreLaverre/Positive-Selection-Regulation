{
 "cells": [
  {
   "cell_type": "markdown",
   "id": "30e01592",
   "metadata": {},
   "source": [
    "## Import libraries and files"
   ]
  },
  {
   "cell_type": "code",
   "execution_count": 3,
   "id": "35b3e27a",
   "metadata": {},
   "outputs": [],
   "source": [
    "import pandas as pd\n",
    "import warnings\n",
    "import time\n",
    "from xgboost import XGBClassifier\n",
    "from sklearn.neural_network import MLPClassifier\n",
    "from sklearn.dummy import DummyClassifier\n",
    "from sklearn.neighbors import KNeighborsClassifier\n",
    "from sklearn.tree import DecisionTreeClassifier\n",
    "from sklearn.ensemble import RandomForestClassifier\n",
    "from sklearn.ensemble import AdaBoostClassifier\n",
    "from sklearn.ensemble import GradientBoostingClassifier\n",
    "from sklearn.linear_model import Perceptron\n",
    "from sklearn.svm import SVC\n",
    "from sklearn.model_selection import train_test_split\n",
    "from sklearn.model_selection import GridSearchCV\n",
    "from sklearn.metrics import classification_report\n",
    "from sklearn.metrics import f1_score\n",
    "from sklearn.metrics import accuracy_score\n",
    "from sklearn.metrics import mean_absolute_error\n",
    "from sklearn.metrics import precision_score\n",
    "from sklearn.metrics import recall_score\n",
    "from sklearn.metrics import confusion_matrix\n",
    "from sklearn.metrics import roc_auc_score\n",
    "\n",
    "warnings.filterwarnings(\"ignore\")\n",
    "#pd.set_option('display.max_colwidth', -1)"
   ]
  },
  {
   "cell_type": "code",
   "execution_count": 4,
   "id": "7ba0985b",
   "metadata": {},
   "outputs": [],
   "source": [
    "def get_confusion_matrix_values(y_test, y_pred):\n",
    "    cm = confusion_matrix(y_test, y_pred)\n",
    "    return(cm[0][0], cm[0][1], cm[1][0], cm[1][1])"
   ]
  },
  {
   "cell_type": "code",
   "execution_count": 10,
   "id": "f7d6fd63",
   "metadata": {},
   "outputs": [],
   "source": [
    "#df_output = pd.read_csv(\"/Users/alaverre/Documents/Detecting_positive_selection/scripts/ML_optimisation/test_file.txt\")\n",
    "#df_output = pd.read_hdf(output_file_hdf, key=\"data\")\n",
    "path = \"/Users/alaverre/Documents/Detecting_positive_selection/results/positive_selection/\"\n",
    "output_file_hdf = path + \"human/CEBPA/Model/test_kmer_frequency.hdf5\"\n",
    "df_output = pd.read_hdf(output_file_hdf, key=\"data\")"
   ]
  },
  {
   "cell_type": "code",
   "execution_count": 24,
   "id": "c2167705",
   "metadata": {
    "scrolled": true
   },
   "outputs": [
    {
     "data": {
      "text/plain": "                                  ACTCAGGGTG  GCTGGAGTGA  AGGCAAAATG   \nchr1_96443_96778_pos_1                   0.0         0.0         0.0  \\\nchr1_100279_100500_pos_2                 0.0         0.0         0.0   \nchr1_104934_105160_pos_3                 0.0         0.0         0.0   \nchr1_136582_136775_pos_4                 0.0         0.0         0.0   \nchr1_136877_137276_pos_5                 0.0         0.0         0.0   \n...                                      ...         ...         ...   \nchr9_33939364_33939631_neg_920           0.0         0.0         0.0   \nchr9_124230545_124230785_neg_921         0.0         0.0         0.0   \nchr6_60735912_60736133_neg_922           0.0         0.0         0.0   \nchr20_40737823_40738175_neg_923          0.0         0.0         0.0   \nchr5_133873746_133873907_neg_924         0.0         0.0         0.0   \n\n                                  AGCTTCTGGG  GAATGCTTCC  ACCAGTGGTG   \nchr1_96443_96778_pos_1                   0.0         0.0         0.0  \\\nchr1_100279_100500_pos_2                 0.0         0.0         0.0   \nchr1_104934_105160_pos_3                 0.0         0.0         0.0   \nchr1_136582_136775_pos_4                 0.0         0.0         0.0   \nchr1_136877_137276_pos_5                 0.0         0.0         0.0   \n...                                      ...         ...         ...   \nchr9_33939364_33939631_neg_920           0.0         0.0         0.0   \nchr9_124230545_124230785_neg_921         0.0         0.0         0.0   \nchr6_60735912_60736133_neg_922           0.0         0.0         0.0   \nchr20_40737823_40738175_neg_923          0.0         0.0         0.0   \nchr5_133873746_133873907_neg_924         0.0         0.0         0.0   \n\n                                  AAATAAAACC  AGTTCATTTC  AACCCTGCTC   \nchr1_96443_96778_pos_1                   0.0         0.0         0.0  \\\nchr1_100279_100500_pos_2                 0.0         0.0         0.0   \nchr1_104934_105160_pos_3                 0.0         0.0         0.0   \nchr1_136582_136775_pos_4                 0.0         0.0         0.0   \nchr1_136877_137276_pos_5                 0.0         0.0         0.0   \n...                                      ...         ...         ...   \nchr9_33939364_33939631_neg_920           0.0         0.0         0.0   \nchr9_124230545_124230785_neg_921         0.0         0.0         0.0   \nchr6_60735912_60736133_neg_922           0.0         0.0         0.0   \nchr20_40737823_40738175_neg_923          0.0         0.0         0.0   \nchr5_133873746_133873907_neg_924         0.0         0.0         0.0   \n\n                                  CATCCCCAGG  ...  ACTGAAGGTG  CCGCAAACCG   \nchr1_96443_96778_pos_1                   0.0  ...           0           0  \\\nchr1_100279_100500_pos_2                 0.0  ...           0           0   \nchr1_104934_105160_pos_3                 0.0  ...           0           0   \nchr1_136582_136775_pos_4                 0.0  ...           0           0   \nchr1_136877_137276_pos_5                 0.0  ...           0           0   \n...                                      ...  ...         ...         ...   \nchr9_33939364_33939631_neg_920           0.0  ...           0           0   \nchr9_124230545_124230785_neg_921         0.0  ...           0           0   \nchr6_60735912_60736133_neg_922           0.0  ...           0           0   \nchr20_40737823_40738175_neg_923          0.0  ...           0           0   \nchr5_133873746_133873907_neg_924         0.0  ...           0           0   \n\n                                  GGGCATCGGA  CCTTTTCGAA  AACGCATTGA   \nchr1_96443_96778_pos_1                     0           0           0  \\\nchr1_100279_100500_pos_2                   0           0           0   \nchr1_104934_105160_pos_3                   0           0           0   \nchr1_136582_136775_pos_4                   0           0           0   \nchr1_136877_137276_pos_5                   0           0           0   \n...                                      ...         ...         ...   \nchr9_33939364_33939631_neg_920             0           0           0   \nchr9_124230545_124230785_neg_921           0           0           0   \nchr6_60735912_60736133_neg_922             0           0           0   \nchr20_40737823_40738175_neg_923            0           0           0   \nchr5_133873746_133873907_neg_924           0           0           0   \n\n                                  ACGCGCCGAC  ACGTCCTCGC  CCGGTTTGAA   \nchr1_96443_96778_pos_1                     0           0           0  \\\nchr1_100279_100500_pos_2                   0           0           0   \nchr1_104934_105160_pos_3                   0           0           0   \nchr1_136582_136775_pos_4                   0           0           0   \nchr1_136877_137276_pos_5                   0           0           0   \n...                                      ...         ...         ...   \nchr9_33939364_33939631_neg_920             0           0           0   \nchr9_124230545_124230785_neg_921           0           0           0   \nchr6_60735912_60736133_neg_922             0           0           0   \nchr20_40737823_40738175_neg_923            0           0           0   \nchr5_133873746_133873907_neg_924           0           0           0   \n\n                                  CTAAACTTGA  match  \nchr1_96443_96778_pos_1                   0.0      1  \nchr1_100279_100500_pos_2                 0.0      1  \nchr1_104934_105160_pos_3                 0.0      1  \nchr1_136582_136775_pos_4                 0.0      1  \nchr1_136877_137276_pos_5                 0.0      1  \n...                                      ...    ...  \nchr9_33939364_33939631_neg_920           0.0      0  \nchr9_124230545_124230785_neg_921         0.0      0  \nchr6_60735912_60736133_neg_922           0.0      0  \nchr20_40737823_40738175_neg_923          0.0      0  \nchr5_133873746_133873907_neg_924         0.0      0  \n\n[1831 rows x 524801 columns]",
      "text/html": "<div>\n<style scoped>\n    .dataframe tbody tr th:only-of-type {\n        vertical-align: middle;\n    }\n\n    .dataframe tbody tr th {\n        vertical-align: top;\n    }\n\n    .dataframe thead th {\n        text-align: right;\n    }\n</style>\n<table border=\"1\" class=\"dataframe\">\n  <thead>\n    <tr style=\"text-align: right;\">\n      <th></th>\n      <th>ACTCAGGGTG</th>\n      <th>GCTGGAGTGA</th>\n      <th>AGGCAAAATG</th>\n      <th>AGCTTCTGGG</th>\n      <th>GAATGCTTCC</th>\n      <th>ACCAGTGGTG</th>\n      <th>AAATAAAACC</th>\n      <th>AGTTCATTTC</th>\n      <th>AACCCTGCTC</th>\n      <th>CATCCCCAGG</th>\n      <th>...</th>\n      <th>ACTGAAGGTG</th>\n      <th>CCGCAAACCG</th>\n      <th>GGGCATCGGA</th>\n      <th>CCTTTTCGAA</th>\n      <th>AACGCATTGA</th>\n      <th>ACGCGCCGAC</th>\n      <th>ACGTCCTCGC</th>\n      <th>CCGGTTTGAA</th>\n      <th>CTAAACTTGA</th>\n      <th>match</th>\n    </tr>\n  </thead>\n  <tbody>\n    <tr>\n      <th>chr1_96443_96778_pos_1</th>\n      <td>0.0</td>\n      <td>0.0</td>\n      <td>0.0</td>\n      <td>0.0</td>\n      <td>0.0</td>\n      <td>0.0</td>\n      <td>0.0</td>\n      <td>0.0</td>\n      <td>0.0</td>\n      <td>0.0</td>\n      <td>...</td>\n      <td>0</td>\n      <td>0</td>\n      <td>0</td>\n      <td>0</td>\n      <td>0</td>\n      <td>0</td>\n      <td>0</td>\n      <td>0</td>\n      <td>0.0</td>\n      <td>1</td>\n    </tr>\n    <tr>\n      <th>chr1_100279_100500_pos_2</th>\n      <td>0.0</td>\n      <td>0.0</td>\n      <td>0.0</td>\n      <td>0.0</td>\n      <td>0.0</td>\n      <td>0.0</td>\n      <td>0.0</td>\n      <td>0.0</td>\n      <td>0.0</td>\n      <td>0.0</td>\n      <td>...</td>\n      <td>0</td>\n      <td>0</td>\n      <td>0</td>\n      <td>0</td>\n      <td>0</td>\n      <td>0</td>\n      <td>0</td>\n      <td>0</td>\n      <td>0.0</td>\n      <td>1</td>\n    </tr>\n    <tr>\n      <th>chr1_104934_105160_pos_3</th>\n      <td>0.0</td>\n      <td>0.0</td>\n      <td>0.0</td>\n      <td>0.0</td>\n      <td>0.0</td>\n      <td>0.0</td>\n      <td>0.0</td>\n      <td>0.0</td>\n      <td>0.0</td>\n      <td>0.0</td>\n      <td>...</td>\n      <td>0</td>\n      <td>0</td>\n      <td>0</td>\n      <td>0</td>\n      <td>0</td>\n      <td>0</td>\n      <td>0</td>\n      <td>0</td>\n      <td>0.0</td>\n      <td>1</td>\n    </tr>\n    <tr>\n      <th>chr1_136582_136775_pos_4</th>\n      <td>0.0</td>\n      <td>0.0</td>\n      <td>0.0</td>\n      <td>0.0</td>\n      <td>0.0</td>\n      <td>0.0</td>\n      <td>0.0</td>\n      <td>0.0</td>\n      <td>0.0</td>\n      <td>0.0</td>\n      <td>...</td>\n      <td>0</td>\n      <td>0</td>\n      <td>0</td>\n      <td>0</td>\n      <td>0</td>\n      <td>0</td>\n      <td>0</td>\n      <td>0</td>\n      <td>0.0</td>\n      <td>1</td>\n    </tr>\n    <tr>\n      <th>chr1_136877_137276_pos_5</th>\n      <td>0.0</td>\n      <td>0.0</td>\n      <td>0.0</td>\n      <td>0.0</td>\n      <td>0.0</td>\n      <td>0.0</td>\n      <td>0.0</td>\n      <td>0.0</td>\n      <td>0.0</td>\n      <td>0.0</td>\n      <td>...</td>\n      <td>0</td>\n      <td>0</td>\n      <td>0</td>\n      <td>0</td>\n      <td>0</td>\n      <td>0</td>\n      <td>0</td>\n      <td>0</td>\n      <td>0.0</td>\n      <td>1</td>\n    </tr>\n    <tr>\n      <th>...</th>\n      <td>...</td>\n      <td>...</td>\n      <td>...</td>\n      <td>...</td>\n      <td>...</td>\n      <td>...</td>\n      <td>...</td>\n      <td>...</td>\n      <td>...</td>\n      <td>...</td>\n      <td>...</td>\n      <td>...</td>\n      <td>...</td>\n      <td>...</td>\n      <td>...</td>\n      <td>...</td>\n      <td>...</td>\n      <td>...</td>\n      <td>...</td>\n      <td>...</td>\n      <td>...</td>\n    </tr>\n    <tr>\n      <th>chr9_33939364_33939631_neg_920</th>\n      <td>0.0</td>\n      <td>0.0</td>\n      <td>0.0</td>\n      <td>0.0</td>\n      <td>0.0</td>\n      <td>0.0</td>\n      <td>0.0</td>\n      <td>0.0</td>\n      <td>0.0</td>\n      <td>0.0</td>\n      <td>...</td>\n      <td>0</td>\n      <td>0</td>\n      <td>0</td>\n      <td>0</td>\n      <td>0</td>\n      <td>0</td>\n      <td>0</td>\n      <td>0</td>\n      <td>0.0</td>\n      <td>0</td>\n    </tr>\n    <tr>\n      <th>chr9_124230545_124230785_neg_921</th>\n      <td>0.0</td>\n      <td>0.0</td>\n      <td>0.0</td>\n      <td>0.0</td>\n      <td>0.0</td>\n      <td>0.0</td>\n      <td>0.0</td>\n      <td>0.0</td>\n      <td>0.0</td>\n      <td>0.0</td>\n      <td>...</td>\n      <td>0</td>\n      <td>0</td>\n      <td>0</td>\n      <td>0</td>\n      <td>0</td>\n      <td>0</td>\n      <td>0</td>\n      <td>0</td>\n      <td>0.0</td>\n      <td>0</td>\n    </tr>\n    <tr>\n      <th>chr6_60735912_60736133_neg_922</th>\n      <td>0.0</td>\n      <td>0.0</td>\n      <td>0.0</td>\n      <td>0.0</td>\n      <td>0.0</td>\n      <td>0.0</td>\n      <td>0.0</td>\n      <td>0.0</td>\n      <td>0.0</td>\n      <td>0.0</td>\n      <td>...</td>\n      <td>0</td>\n      <td>0</td>\n      <td>0</td>\n      <td>0</td>\n      <td>0</td>\n      <td>0</td>\n      <td>0</td>\n      <td>0</td>\n      <td>0.0</td>\n      <td>0</td>\n    </tr>\n    <tr>\n      <th>chr20_40737823_40738175_neg_923</th>\n      <td>0.0</td>\n      <td>0.0</td>\n      <td>0.0</td>\n      <td>0.0</td>\n      <td>0.0</td>\n      <td>0.0</td>\n      <td>0.0</td>\n      <td>0.0</td>\n      <td>0.0</td>\n      <td>0.0</td>\n      <td>...</td>\n      <td>0</td>\n      <td>0</td>\n      <td>0</td>\n      <td>0</td>\n      <td>0</td>\n      <td>0</td>\n      <td>0</td>\n      <td>0</td>\n      <td>0.0</td>\n      <td>0</td>\n    </tr>\n    <tr>\n      <th>chr5_133873746_133873907_neg_924</th>\n      <td>0.0</td>\n      <td>0.0</td>\n      <td>0.0</td>\n      <td>0.0</td>\n      <td>0.0</td>\n      <td>0.0</td>\n      <td>0.0</td>\n      <td>0.0</td>\n      <td>0.0</td>\n      <td>0.0</td>\n      <td>...</td>\n      <td>0</td>\n      <td>0</td>\n      <td>0</td>\n      <td>0</td>\n      <td>0</td>\n      <td>0</td>\n      <td>0</td>\n      <td>0</td>\n      <td>0.0</td>\n      <td>0</td>\n    </tr>\n  </tbody>\n</table>\n<p>1831 rows × 524801 columns</p>\n</div>"
     },
     "execution_count": 24,
     "metadata": {},
     "output_type": "execute_result"
    }
   ],
   "source": [
    "df_output"
   ]
  },
  {
   "cell_type": "markdown",
   "id": "b2b080e7",
   "metadata": {},
   "source": [
    "## Feature selection (find features that the most contribute to the prediction)"
   ]
  },
  {
   "cell_type": "code",
   "execution_count": null,
   "id": "b07fb087",
   "metadata": {
    "pycharm": {
     "is_executing": true
    }
   },
   "outputs": [],
   "source": [
    "#Correlation with output variable\n",
    "cor_target = abs(df_output.corr()[\"match\"])\n",
    "#Selecting highly correlated features\n",
    "relevant_features = list(pd.DataFrame(cor_target[cor_target>0.9]).index)"
   ]
  },
  {
   "cell_type": "code",
   "execution_count": 8,
   "id": "3980733f",
   "metadata": {},
   "outputs": [],
   "source": [
    "features = pd.DataFrame(cor_target[cor_target>0.9]).sort_values(\"match\", ascending=False)"
   ]
  },
  {
   "cell_type": "code",
   "execution_count": 9,
   "id": "c6ad6ebf",
   "metadata": {},
   "outputs": [
    {
     "data": {
      "text/plain": "['match_rating_comparison', 'token_set_ratio', 'w_ratio', 'token_sort_ratio']"
     },
     "execution_count": 9,
     "metadata": {},
     "output_type": "execute_result"
    }
   ],
   "source": [
    "top_feature_list = list(features.head()[1:].index)\n",
    "top_feature_list"
   ]
  },
  {
   "cell_type": "markdown",
   "id": "650c92bb",
   "metadata": {},
   "source": [
    "## Find best classifiers for the prediction"
   ]
  },
  {
   "cell_type": "code",
   "execution_count": 10,
   "id": "ea9b7c7e",
   "metadata": {},
   "outputs": [],
   "source": [
    "#creating training and testing data\n",
    "X = df_output[relevant_features[1:]].values\n",
    "y = df_output['match'].values\n",
    "X_train, X_test, y_train, y_test = train_test_split(X, y, test_size=0.3, random_state=1, stratify=y)"
   ]
  },
  {
   "cell_type": "code",
   "execution_count": 13,
   "id": "2cf67f25",
   "metadata": {},
   "outputs": [
    {
     "data": {
      "text/plain": "                         model  accuracy       mae  precision    recall  \\\n0   DecisionTreeClassifier      1.000000  0.000000  1.000000   1.000000   \n1   AdaBoostClassifier          1.000000  0.000000  1.000000   1.000000   \n2   GradientBoostingClassifier  1.000000  0.000000  1.000000   1.000000   \n3   SupportVectorMachine        1.000000  0.000000  1.000000   1.000000   \n4   RandomForestClassifier      1.000000  0.000000  1.000000   1.000000   \n5   XGBClassifier               1.000000  0.000000  1.000000   1.000000   \n6   XGBClassifier finetuned     1.000000  0.000000  1.000000   1.000000   \n7   KNeighborsClassifier        0.996667  0.003333  1.000000   0.993421   \n8   MLP                         0.996667  0.003333  0.993464   1.000000   \n9   Perceptron                  0.993333  0.006667  1.000000   0.986842   \n10  DummyClassifier_stratified  0.463333  0.536667  0.468966   0.447368   \n\n          f1       roc run_time   tp  fp   tn  fn  \n0   1.000000  1.000000  0.0      148  0   152  0   \n1   1.000000  1.000000  0.0      148  0   152  0   \n2   1.000000  1.000000  0.0      148  0   152  0   \n3   1.000000  1.000000  0.0      148  0   152  0   \n4   1.000000  1.000000  0.0      148  0   152  0   \n5   1.000000  1.000000  0.01     148  0   152  0   \n6   1.000000  1.000000  0.01     148  0   152  0   \n7   0.996700  0.996711  0.0      148  0   151  1   \n8   0.996721  0.996622  0.0      147  1   152  0   \n9   0.993377  0.993421  0.0      148  0   150  2   \n10  0.457912  0.463549  0.0      71   77  68   84  ",
      "text/html": "<div>\n<style scoped>\n    .dataframe tbody tr th:only-of-type {\n        vertical-align: middle;\n    }\n\n    .dataframe tbody tr th {\n        vertical-align: top;\n    }\n\n    .dataframe thead th {\n        text-align: right;\n    }\n</style>\n<table border=\"1\" class=\"dataframe\">\n  <thead>\n    <tr style=\"text-align: right;\">\n      <th></th>\n      <th>model</th>\n      <th>accuracy</th>\n      <th>mae</th>\n      <th>precision</th>\n      <th>recall</th>\n      <th>f1</th>\n      <th>roc</th>\n      <th>run_time</th>\n      <th>tp</th>\n      <th>fp</th>\n      <th>tn</th>\n      <th>fn</th>\n    </tr>\n  </thead>\n  <tbody>\n    <tr>\n      <th>0</th>\n      <td>DecisionTreeClassifier</td>\n      <td>1.000000</td>\n      <td>0.000000</td>\n      <td>1.000000</td>\n      <td>1.000000</td>\n      <td>1.000000</td>\n      <td>1.000000</td>\n      <td>0.0</td>\n      <td>148</td>\n      <td>0</td>\n      <td>152</td>\n      <td>0</td>\n    </tr>\n    <tr>\n      <th>1</th>\n      <td>AdaBoostClassifier</td>\n      <td>1.000000</td>\n      <td>0.000000</td>\n      <td>1.000000</td>\n      <td>1.000000</td>\n      <td>1.000000</td>\n      <td>1.000000</td>\n      <td>0.0</td>\n      <td>148</td>\n      <td>0</td>\n      <td>152</td>\n      <td>0</td>\n    </tr>\n    <tr>\n      <th>2</th>\n      <td>GradientBoostingClassifier</td>\n      <td>1.000000</td>\n      <td>0.000000</td>\n      <td>1.000000</td>\n      <td>1.000000</td>\n      <td>1.000000</td>\n      <td>1.000000</td>\n      <td>0.0</td>\n      <td>148</td>\n      <td>0</td>\n      <td>152</td>\n      <td>0</td>\n    </tr>\n    <tr>\n      <th>3</th>\n      <td>SupportVectorMachine</td>\n      <td>1.000000</td>\n      <td>0.000000</td>\n      <td>1.000000</td>\n      <td>1.000000</td>\n      <td>1.000000</td>\n      <td>1.000000</td>\n      <td>0.0</td>\n      <td>148</td>\n      <td>0</td>\n      <td>152</td>\n      <td>0</td>\n    </tr>\n    <tr>\n      <th>4</th>\n      <td>RandomForestClassifier</td>\n      <td>1.000000</td>\n      <td>0.000000</td>\n      <td>1.000000</td>\n      <td>1.000000</td>\n      <td>1.000000</td>\n      <td>1.000000</td>\n      <td>0.0</td>\n      <td>148</td>\n      <td>0</td>\n      <td>152</td>\n      <td>0</td>\n    </tr>\n    <tr>\n      <th>5</th>\n      <td>XGBClassifier</td>\n      <td>1.000000</td>\n      <td>0.000000</td>\n      <td>1.000000</td>\n      <td>1.000000</td>\n      <td>1.000000</td>\n      <td>1.000000</td>\n      <td>0.01</td>\n      <td>148</td>\n      <td>0</td>\n      <td>152</td>\n      <td>0</td>\n    </tr>\n    <tr>\n      <th>6</th>\n      <td>XGBClassifier finetuned</td>\n      <td>1.000000</td>\n      <td>0.000000</td>\n      <td>1.000000</td>\n      <td>1.000000</td>\n      <td>1.000000</td>\n      <td>1.000000</td>\n      <td>0.01</td>\n      <td>148</td>\n      <td>0</td>\n      <td>152</td>\n      <td>0</td>\n    </tr>\n    <tr>\n      <th>7</th>\n      <td>KNeighborsClassifier</td>\n      <td>0.996667</td>\n      <td>0.003333</td>\n      <td>1.000000</td>\n      <td>0.993421</td>\n      <td>0.996700</td>\n      <td>0.996711</td>\n      <td>0.0</td>\n      <td>148</td>\n      <td>0</td>\n      <td>151</td>\n      <td>1</td>\n    </tr>\n    <tr>\n      <th>8</th>\n      <td>MLP</td>\n      <td>0.996667</td>\n      <td>0.003333</td>\n      <td>0.993464</td>\n      <td>1.000000</td>\n      <td>0.996721</td>\n      <td>0.996622</td>\n      <td>0.0</td>\n      <td>147</td>\n      <td>1</td>\n      <td>152</td>\n      <td>0</td>\n    </tr>\n    <tr>\n      <th>9</th>\n      <td>Perceptron</td>\n      <td>0.993333</td>\n      <td>0.006667</td>\n      <td>1.000000</td>\n      <td>0.986842</td>\n      <td>0.993377</td>\n      <td>0.993421</td>\n      <td>0.0</td>\n      <td>148</td>\n      <td>0</td>\n      <td>150</td>\n      <td>2</td>\n    </tr>\n    <tr>\n      <th>10</th>\n      <td>DummyClassifier_stratified</td>\n      <td>0.463333</td>\n      <td>0.536667</td>\n      <td>0.468966</td>\n      <td>0.447368</td>\n      <td>0.457912</td>\n      <td>0.463549</td>\n      <td>0.0</td>\n      <td>71</td>\n      <td>77</td>\n      <td>68</td>\n      <td>84</td>\n    </tr>\n  </tbody>\n</table>\n</div>"
     },
     "execution_count": 13,
     "metadata": {},
     "output_type": "execute_result"
    }
   ],
   "source": [
    "#selecting and comparing state of the art classifiers to choose the best one\n",
    "classifiers = {\n",
    "    \"DummyClassifier_stratified\":DummyClassifier(strategy='stratified', random_state=0),    \n",
    "    \"KNeighborsClassifier\":KNeighborsClassifier(3),\n",
    "    \"DecisionTreeClassifier\":DecisionTreeClassifier(),\n",
    "    \"AdaBoostClassifier\":AdaBoostClassifier(),\n",
    "    \"GradientBoostingClassifier\":GradientBoostingClassifier(),\n",
    "    \"Perceptron\": Perceptron(max_iter=40, eta0=0.1, random_state=1),\n",
    "    \"SupportVectorMachine\":SVC(),\n",
    "    \"MLP\": MLPClassifier(max_iter=100),\n",
    "    \"RandomForestClassifier\":RandomForestClassifier(),\n",
    "    \"XGBClassifier\":XGBClassifier(n_estimators=1000, learning_rate=0.1),\n",
    "    \"XGBClassifier finetuned\":XGBClassifier(\n",
    "                      scale_pos_weight=1,\n",
    "                      learning_rate=0.01,  \n",
    "                      colsample_bytree = 0.8,\n",
    "                      subsample = 0.8,\n",
    "                      objective='binary:logistic', \n",
    "                      n_estimators=1000, \n",
    "                      reg_alpha = 0.3,\n",
    "                      max_depth=9, \n",
    "                      gamma=10)\n",
    "\n",
    "}\n",
    "\n",
    "df_results = pd.DataFrame(columns=['model', 'accuracy', 'mae', 'precision','recall','f1','roc','run_time','tp','fp','tn','fn'])\n",
    "for key in classifiers:\n",
    "\n",
    "    start_time = time.time()\n",
    "    classifier = classifiers[key]\n",
    "    model = classifier.fit(X_train, y_train)\n",
    "    y_pred = model.predict(X_test)\n",
    "\n",
    "    mae = mean_absolute_error(y_test, y_pred)\n",
    "    accuracy = accuracy_score(y_test, y_pred)\n",
    "    precision = precision_score(y_test, y_pred, zero_division=0)\n",
    "    recall = recall_score(y_test, y_pred)\n",
    "    f1 = f1_score(y_test, y_pred, zero_division=0)\n",
    "    roc = roc_auc_score(y_test, y_pred)\n",
    "    classification = classification_report(y_test, y_pred, zero_division=0)\n",
    "    run_time = format(round((time.time() - start_time)/60,2))\n",
    "    tp, fp, fn, tn = get_confusion_matrix_values(y_test, y_pred)\n",
    "\n",
    "    row = {'model': key,\n",
    "           'accuracy': accuracy,\n",
    "           'mae': mae,\n",
    "           'precision': precision,\n",
    "           'recall': recall,\n",
    "           'f1': f1,\n",
    "           'roc': roc,\n",
    "           'run_time': run_time,\n",
    "           'tp': tp,\n",
    "           'fp': fp,\n",
    "           'tn': tn,\n",
    "           'fn': fn,\n",
    "          }\n",
    "    df_results = df_results.append(row, ignore_index=True)\n",
    "\n",
    "df_results.sort_values(['accuracy', 'precision'], ascending=[False, False]).reset_index(drop = True)"
   ]
  },
  {
   "cell_type": "code",
   "execution_count": 14,
   "id": "3f032486",
   "metadata": {},
   "outputs": [
    {
     "data": {
      "text/plain": "                         model  accuracy       mae  precision    recall  \\\n0   DecisionTreeClassifier      1.000000  0.000000  1.000000   1.000000   \n1   AdaBoostClassifier          1.000000  0.000000  1.000000   1.000000   \n2   GradientBoostingClassifier  1.000000  0.000000  1.000000   1.000000   \n3   SupportVectorMachine        1.000000  0.000000  1.000000   1.000000   \n4   RandomForestClassifier      1.000000  0.000000  1.000000   1.000000   \n5   XGBClassifier               1.000000  0.000000  1.000000   1.000000   \n6   XGBClassifier finetuned     1.000000  0.000000  1.000000   1.000000   \n7   KNeighborsClassifier        0.996667  0.003333  1.000000   0.993421   \n8   MLP                         0.996667  0.003333  0.993464   1.000000   \n9   Perceptron                  0.993333  0.006667  1.000000   0.986842   \n10  DummyClassifier_stratified  0.463333  0.536667  0.468966   0.447368   \n\n          f1       roc run_time   tp  fp   tn  fn  \n0   1.000000  1.000000  0.0      148  0   152  0   \n1   1.000000  1.000000  0.0      148  0   152  0   \n2   1.000000  1.000000  0.0      148  0   152  0   \n3   1.000000  1.000000  0.0      148  0   152  0   \n4   1.000000  1.000000  0.0      148  0   152  0   \n5   1.000000  1.000000  0.01     148  0   152  0   \n6   1.000000  1.000000  0.01     148  0   152  0   \n7   0.996700  0.996711  0.0      148  0   151  1   \n8   0.996721  0.996622  0.0      147  1   152  0   \n9   0.993377  0.993421  0.0      148  0   150  2   \n10  0.457912  0.463549  0.0      71   77  68   84  ",
      "text/html": "<div>\n<style scoped>\n    .dataframe tbody tr th:only-of-type {\n        vertical-align: middle;\n    }\n\n    .dataframe tbody tr th {\n        vertical-align: top;\n    }\n\n    .dataframe thead th {\n        text-align: right;\n    }\n</style>\n<table border=\"1\" class=\"dataframe\">\n  <thead>\n    <tr style=\"text-align: right;\">\n      <th></th>\n      <th>model</th>\n      <th>accuracy</th>\n      <th>mae</th>\n      <th>precision</th>\n      <th>recall</th>\n      <th>f1</th>\n      <th>roc</th>\n      <th>run_time</th>\n      <th>tp</th>\n      <th>fp</th>\n      <th>tn</th>\n      <th>fn</th>\n    </tr>\n  </thead>\n  <tbody>\n    <tr>\n      <th>0</th>\n      <td>DecisionTreeClassifier</td>\n      <td>1.000000</td>\n      <td>0.000000</td>\n      <td>1.000000</td>\n      <td>1.000000</td>\n      <td>1.000000</td>\n      <td>1.000000</td>\n      <td>0.0</td>\n      <td>148</td>\n      <td>0</td>\n      <td>152</td>\n      <td>0</td>\n    </tr>\n    <tr>\n      <th>1</th>\n      <td>AdaBoostClassifier</td>\n      <td>1.000000</td>\n      <td>0.000000</td>\n      <td>1.000000</td>\n      <td>1.000000</td>\n      <td>1.000000</td>\n      <td>1.000000</td>\n      <td>0.0</td>\n      <td>148</td>\n      <td>0</td>\n      <td>152</td>\n      <td>0</td>\n    </tr>\n    <tr>\n      <th>2</th>\n      <td>GradientBoostingClassifier</td>\n      <td>1.000000</td>\n      <td>0.000000</td>\n      <td>1.000000</td>\n      <td>1.000000</td>\n      <td>1.000000</td>\n      <td>1.000000</td>\n      <td>0.0</td>\n      <td>148</td>\n      <td>0</td>\n      <td>152</td>\n      <td>0</td>\n    </tr>\n    <tr>\n      <th>3</th>\n      <td>SupportVectorMachine</td>\n      <td>1.000000</td>\n      <td>0.000000</td>\n      <td>1.000000</td>\n      <td>1.000000</td>\n      <td>1.000000</td>\n      <td>1.000000</td>\n      <td>0.0</td>\n      <td>148</td>\n      <td>0</td>\n      <td>152</td>\n      <td>0</td>\n    </tr>\n    <tr>\n      <th>4</th>\n      <td>RandomForestClassifier</td>\n      <td>1.000000</td>\n      <td>0.000000</td>\n      <td>1.000000</td>\n      <td>1.000000</td>\n      <td>1.000000</td>\n      <td>1.000000</td>\n      <td>0.0</td>\n      <td>148</td>\n      <td>0</td>\n      <td>152</td>\n      <td>0</td>\n    </tr>\n    <tr>\n      <th>5</th>\n      <td>XGBClassifier</td>\n      <td>1.000000</td>\n      <td>0.000000</td>\n      <td>1.000000</td>\n      <td>1.000000</td>\n      <td>1.000000</td>\n      <td>1.000000</td>\n      <td>0.01</td>\n      <td>148</td>\n      <td>0</td>\n      <td>152</td>\n      <td>0</td>\n    </tr>\n    <tr>\n      <th>6</th>\n      <td>XGBClassifier finetuned</td>\n      <td>1.000000</td>\n      <td>0.000000</td>\n      <td>1.000000</td>\n      <td>1.000000</td>\n      <td>1.000000</td>\n      <td>1.000000</td>\n      <td>0.01</td>\n      <td>148</td>\n      <td>0</td>\n      <td>152</td>\n      <td>0</td>\n    </tr>\n    <tr>\n      <th>7</th>\n      <td>KNeighborsClassifier</td>\n      <td>0.996667</td>\n      <td>0.003333</td>\n      <td>1.000000</td>\n      <td>0.993421</td>\n      <td>0.996700</td>\n      <td>0.996711</td>\n      <td>0.0</td>\n      <td>148</td>\n      <td>0</td>\n      <td>151</td>\n      <td>1</td>\n    </tr>\n    <tr>\n      <th>8</th>\n      <td>MLP</td>\n      <td>0.996667</td>\n      <td>0.003333</td>\n      <td>0.993464</td>\n      <td>1.000000</td>\n      <td>0.996721</td>\n      <td>0.996622</td>\n      <td>0.0</td>\n      <td>147</td>\n      <td>1</td>\n      <td>152</td>\n      <td>0</td>\n    </tr>\n    <tr>\n      <th>9</th>\n      <td>Perceptron</td>\n      <td>0.993333</td>\n      <td>0.006667</td>\n      <td>1.000000</td>\n      <td>0.986842</td>\n      <td>0.993377</td>\n      <td>0.993421</td>\n      <td>0.0</td>\n      <td>148</td>\n      <td>0</td>\n      <td>150</td>\n      <td>2</td>\n    </tr>\n    <tr>\n      <th>10</th>\n      <td>DummyClassifier_stratified</td>\n      <td>0.463333</td>\n      <td>0.536667</td>\n      <td>0.468966</td>\n      <td>0.447368</td>\n      <td>0.457912</td>\n      <td>0.463549</td>\n      <td>0.0</td>\n      <td>71</td>\n      <td>77</td>\n      <td>68</td>\n      <td>84</td>\n    </tr>\n  </tbody>\n</table>\n</div>"
     },
     "execution_count": 14,
     "metadata": {},
     "output_type": "execute_result"
    }
   ],
   "source": []
  },
  {
   "cell_type": "code",
   "execution_count": null,
   "id": "f3dcdb3f",
   "metadata": {},
   "outputs": [],
   "source": []
  },
  {
   "cell_type": "code",
   "execution_count": null,
   "id": "be633d91",
   "metadata": {},
   "outputs": [],
   "source": []
  }
 ],
 "metadata": {
  "kernelspec": {
   "display_name": "Python 3 (ipykernel)",
   "language": "python",
   "name": "python3"
  },
  "language_info": {
   "codemirror_mode": {
    "name": "ipython",
    "version": 3
   },
   "file_extension": ".py",
   "mimetype": "text/x-python",
   "name": "python",
   "nbconvert_exporter": "python",
   "pygments_lexer": "ipython3",
   "version": "3.11.0"
  }
 },
 "nbformat": 4,
 "nbformat_minor": 5
}
